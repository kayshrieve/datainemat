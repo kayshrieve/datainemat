{
 "cells": [
  {
   "cell_type": "markdown",
   "id": "cutting-wealth",
   "metadata": {},
   "source": [
    "\n",
    "# check in part 1\n"
   ]
  },
  {
   "cell_type": "markdown",
   "id": "mobile-labor",
   "metadata": {},
   "source": [
    "<h3>all the check ins are on the same file, marked with a heading where they each start</h3>"
   ]
  },
  {
   "cell_type": "code",
   "execution_count": 1,
   "id": "growing-politics",
   "metadata": {},
   "outputs": [],
   "source": [
    "import json\n",
    "import pandas as pd"
   ]
  },
  {
   "cell_type": "code",
   "execution_count": 4,
   "id": "generic-sector",
   "metadata": {},
   "outputs": [],
   "source": [
    "with open (r\"/Users/kaylashrieve/Documents/fortnite.json\") as f:\n",
    "    act = json.load(f) "
   ]
  },
  {
   "cell_type": "code",
   "execution_count": 5,
   "id": "smoking-stereo",
   "metadata": {},
   "outputs": [],
   "source": [
    "data = pd.read_json(r\"/Users/kaylashrieve/Documents/fortnite.json\") "
   ]
  },
  {
   "cell_type": "code",
   "execution_count": 6,
   "id": "superb-format",
   "metadata": {},
   "outputs": [
    {
     "name": "stdout",
     "output_type": "stream",
     "text": [
      "   Time of Day  Placed  Eliminations  Assists  Revives Accuracy  Hits  \\\n",
      "0      6:00 PM      27             2        0        0      23%    14   \n",
      "1      6:00 PM      45             1        2        0      30%    19   \n",
      "2      6:00 PM      38             3        0        0      30%    32   \n",
      "3      7:00 PM      30             1        3        0      18%    19   \n",
      "4      7:00 PM      16             3        1        1      58%    42   \n",
      "..         ...     ...           ...      ...      ...      ...   ...   \n",
      "82    12:00 AM       2             8        2        0      31%    97   \n",
      "83    12:00 AM      24             4        0        0      20%    12   \n",
      "84     1:00 PM      30             1        2        0      28%    40   \n",
      "85     2:00 PM      18             3        2        1      26%    25   \n",
      "86     2:00 PM      39             1        0        0      31%    12   \n",
      "\n",
      "    Head Shots  Distance Traveled  Materials Gathered  Materials Used  \\\n",
      "0            2             271.08                  20              20   \n",
      "1            1             396.73                 123              30   \n",
      "2            1             607.80                  71              60   \n",
      "3            1             714.16                 244              10   \n",
      "4           18            1140.00                 584             150   \n",
      "..         ...                ...                 ...             ...   \n",
      "82           8            3770.00                1750             400   \n",
      "83           4             222.54                  94               0   \n",
      "84           4             267.00                  78              30   \n",
      "85           3             954.43                 370              60   \n",
      "86           1             226.67                  75               0   \n",
      "\n",
      "    Damage Taken  Damage to Players  Damage to Structures  \n",
      "0            272                331                   621  \n",
      "1            247                444                   998  \n",
      "2            176                322                  1109  \n",
      "3            238                330                  4726  \n",
      "4            365                668                  2070  \n",
      "..           ...                ...                   ...  \n",
      "82           576               1492                  4593  \n",
      "83            96                478                  2262  \n",
      "84           148                375                  1196  \n",
      "85           354                475                  1168  \n",
      "86           120                338                  1105  \n",
      "\n",
      "[87 rows x 14 columns]\n"
     ]
    }
   ],
   "source": [
    "print(data)"
   ]
  },
  {
   "cell_type": "markdown",
   "id": "piano-allah",
   "metadata": {},
   "source": [
    "I've been manually recording the Match Stats given from 87 Fortnite games (to be 100 of my personal games) and keeping them in an excel spreadsheet. I then converted that spreadsheet into JSON format, loaded in my data, and then converted it into a data frame to make it easier to read. \n",
    "\n",
    "I have given two friends the exact same spreadsheet format and am having them also play 100 games of Fortnite each, and they are sending me the data by April 30th. I will have 300 total games of Fortnite to work off of, to figure out if you have to build to make it into the top 25 of the match, or arbitraily \"be good\" at the game. "
   ]
  },
  {
   "cell_type": "markdown",
   "id": "italic-check",
   "metadata": {},
   "source": [
    "check in part 2 "
   ]
  },
  {
   "cell_type": "code",
   "execution_count": 5,
   "id": "copyrighted-sampling",
   "metadata": {},
   "outputs": [],
   "source": [
    "import json\n",
    "from datetime import datetime\n",
    "import matplotlib.pyplot as plt\n",
    "import numpy as np\n",
    "import time\n",
    "import pandas as pd\n",
    "from scipy import stats\n",
    "import pandas as pd\n",
    "import json"
   ]
  },
  {
   "cell_type": "code",
   "execution_count": 6,
   "id": "dietary-overall",
   "metadata": {},
   "outputs": [],
   "source": [
    "with open (r\"/Users/kaylashrieve/Documents/fortnite.json\") as f:\n",
    "    act = json.load(f) "
   ]
  },
  {
   "cell_type": "code",
   "execution_count": 7,
   "id": "nominated-uncertainty",
   "metadata": {},
   "outputs": [],
   "source": [
    "data = pd.read_json(r\"/Users/kaylashrieve/Documents/fortnite.json\") "
   ]
  },
  {
   "cell_type": "code",
   "execution_count": 8,
   "id": "current-conversion",
   "metadata": {},
   "outputs": [
    {
     "name": "stdout",
     "output_type": "stream",
     "text": [
      "   Time of Day  Placed  Eliminations  Assists  Revives Accuracy  Hits  \\\n",
      "0      6:00 PM      27             2        0        0      23%    14   \n",
      "1      6:00 PM      45             1        2        0      30%    19   \n",
      "2      6:00 PM      38             3        0        0      30%    32   \n",
      "3      7:00 PM      30             1        3        0      18%    19   \n",
      "4      7:00 PM      16             3        1        1      58%    42   \n",
      "..         ...     ...           ...      ...      ...      ...   ...   \n",
      "82    12:00 AM       2             8        2        0      31%    97   \n",
      "83    12:00 AM      24             4        0        0      20%    12   \n",
      "84     1:00 PM      30             1        2        0      28%    40   \n",
      "85     2:00 PM      18             3        2        1      26%    25   \n",
      "86     2:00 PM      39             1        0        0      31%    12   \n",
      "\n",
      "    Head Shots  Distance Traveled  Materials Gathered  Materials Used  \\\n",
      "0            2             271.08                  20              20   \n",
      "1            1             396.73                 123              30   \n",
      "2            1             607.80                  71              60   \n",
      "3            1             714.16                 244              10   \n",
      "4           18            1140.00                 584             150   \n",
      "..         ...                ...                 ...             ...   \n",
      "82           8            3770.00                1750             400   \n",
      "83           4             222.54                  94               0   \n",
      "84           4             267.00                  78              30   \n",
      "85           3             954.43                 370              60   \n",
      "86           1             226.67                  75               0   \n",
      "\n",
      "    Damage Taken  Damage to Players  Damage to Structures  \n",
      "0            272                331                   621  \n",
      "1            247                444                   998  \n",
      "2            176                322                  1109  \n",
      "3            238                330                  4726  \n",
      "4            365                668                  2070  \n",
      "..           ...                ...                   ...  \n",
      "82           576               1492                  4593  \n",
      "83            96                478                  2262  \n",
      "84           148                375                  1196  \n",
      "85           354                475                  1168  \n",
      "86           120                338                  1105  \n",
      "\n",
      "[87 rows x 14 columns]\n"
     ]
    }
   ],
   "source": [
    "print(data)"
   ]
  },
  {
   "cell_type": "markdown",
   "id": "patient-paintball",
   "metadata": {},
   "source": [
    "# CHECK IN PART 2 STARTS HERE!!"
   ]
  },
  {
   "cell_type": "code",
   "execution_count": 31,
   "id": "damaged-bradford",
   "metadata": {},
   "outputs": [
    {
     "data": {
      "text/html": [
       "<div>\n",
       "<style scoped>\n",
       "    .dataframe tbody tr th:only-of-type {\n",
       "        vertical-align: middle;\n",
       "    }\n",
       "\n",
       "    .dataframe tbody tr th {\n",
       "        vertical-align: top;\n",
       "    }\n",
       "\n",
       "    .dataframe thead th {\n",
       "        text-align: right;\n",
       "    }\n",
       "</style>\n",
       "<table border=\"1\" class=\"dataframe\">\n",
       "  <thead>\n",
       "    <tr style=\"text-align: right;\">\n",
       "      <th></th>\n",
       "      <th>Time of Day</th>\n",
       "      <th>Placed</th>\n",
       "      <th>Eliminations</th>\n",
       "      <th>Assists</th>\n",
       "      <th>Revives</th>\n",
       "      <th>Accuracy</th>\n",
       "      <th>Hits</th>\n",
       "      <th>Head Shots</th>\n",
       "      <th>Distance Traveled</th>\n",
       "      <th>Materials Gathered</th>\n",
       "      <th>Materials Used</th>\n",
       "      <th>Damage Taken</th>\n",
       "      <th>Damage to Players</th>\n",
       "      <th>Damage to Structures</th>\n",
       "    </tr>\n",
       "  </thead>\n",
       "  <tbody>\n",
       "    <tr>\n",
       "      <th>0</th>\n",
       "      <td>6:00 PM</td>\n",
       "      <td>27</td>\n",
       "      <td>2</td>\n",
       "      <td>0</td>\n",
       "      <td>0</td>\n",
       "      <td>23%</td>\n",
       "      <td>14</td>\n",
       "      <td>2</td>\n",
       "      <td>271.08</td>\n",
       "      <td>20</td>\n",
       "      <td>20</td>\n",
       "      <td>272</td>\n",
       "      <td>331</td>\n",
       "      <td>621</td>\n",
       "    </tr>\n",
       "    <tr>\n",
       "      <th>1</th>\n",
       "      <td>6:00 PM</td>\n",
       "      <td>45</td>\n",
       "      <td>1</td>\n",
       "      <td>2</td>\n",
       "      <td>0</td>\n",
       "      <td>30%</td>\n",
       "      <td>19</td>\n",
       "      <td>1</td>\n",
       "      <td>396.73</td>\n",
       "      <td>123</td>\n",
       "      <td>30</td>\n",
       "      <td>247</td>\n",
       "      <td>444</td>\n",
       "      <td>998</td>\n",
       "    </tr>\n",
       "    <tr>\n",
       "      <th>2</th>\n",
       "      <td>6:00 PM</td>\n",
       "      <td>38</td>\n",
       "      <td>3</td>\n",
       "      <td>0</td>\n",
       "      <td>0</td>\n",
       "      <td>30%</td>\n",
       "      <td>32</td>\n",
       "      <td>1</td>\n",
       "      <td>607.80</td>\n",
       "      <td>71</td>\n",
       "      <td>60</td>\n",
       "      <td>176</td>\n",
       "      <td>322</td>\n",
       "      <td>1109</td>\n",
       "    </tr>\n",
       "    <tr>\n",
       "      <th>3</th>\n",
       "      <td>7:00 PM</td>\n",
       "      <td>30</td>\n",
       "      <td>1</td>\n",
       "      <td>3</td>\n",
       "      <td>0</td>\n",
       "      <td>18%</td>\n",
       "      <td>19</td>\n",
       "      <td>1</td>\n",
       "      <td>714.16</td>\n",
       "      <td>244</td>\n",
       "      <td>10</td>\n",
       "      <td>238</td>\n",
       "      <td>330</td>\n",
       "      <td>4726</td>\n",
       "    </tr>\n",
       "    <tr>\n",
       "      <th>4</th>\n",
       "      <td>7:00 PM</td>\n",
       "      <td>16</td>\n",
       "      <td>3</td>\n",
       "      <td>1</td>\n",
       "      <td>1</td>\n",
       "      <td>58%</td>\n",
       "      <td>42</td>\n",
       "      <td>18</td>\n",
       "      <td>1140.00</td>\n",
       "      <td>584</td>\n",
       "      <td>150</td>\n",
       "      <td>365</td>\n",
       "      <td>668</td>\n",
       "      <td>2070</td>\n",
       "    </tr>\n",
       "  </tbody>\n",
       "</table>\n",
       "</div>"
      ],
      "text/plain": [
       "  Time of Day  Placed  Eliminations  Assists  Revives Accuracy  Hits  \\\n",
       "0     6:00 PM      27             2        0        0      23%    14   \n",
       "1     6:00 PM      45             1        2        0      30%    19   \n",
       "2     6:00 PM      38             3        0        0      30%    32   \n",
       "3     7:00 PM      30             1        3        0      18%    19   \n",
       "4     7:00 PM      16             3        1        1      58%    42   \n",
       "\n",
       "   Head Shots  Distance Traveled  Materials Gathered  Materials Used  \\\n",
       "0           2             271.08                  20              20   \n",
       "1           1             396.73                 123              30   \n",
       "2           1             607.80                  71              60   \n",
       "3           1             714.16                 244              10   \n",
       "4          18            1140.00                 584             150   \n",
       "\n",
       "   Damage Taken  Damage to Players  Damage to Structures  \n",
       "0           272                331                   621  \n",
       "1           247                444                   998  \n",
       "2           176                322                  1109  \n",
       "3           238                330                  4726  \n",
       "4           365                668                  2070  "
      ]
     },
     "execution_count": 31,
     "metadata": {},
     "output_type": "execute_result"
    }
   ],
   "source": [
    "data = pd.read_json(r\"/Users/kaylashrieve/Documents/fortnite.json\")\n",
    "data.head()"
   ]
  },
  {
   "cell_type": "code",
   "execution_count": 32,
   "id": "burning-proceeding",
   "metadata": {},
   "outputs": [],
   "source": [
    "summary = data[\"Placed\"].describe()"
   ]
  },
  {
   "cell_type": "code",
   "execution_count": 33,
   "id": "logical-enemy",
   "metadata": {},
   "outputs": [
    {
     "name": "stdout",
     "output_type": "stream",
     "text": [
      "count    87.000000\n",
      "mean     22.045977\n",
      "std      13.145791\n",
      "min       1.000000\n",
      "25%      15.000000\n",
      "50%      21.000000\n",
      "75%      28.500000\n",
      "max      66.000000\n",
      "Name: Placed, dtype: float64\n"
     ]
    }
   ],
   "source": [
    "print(summary)"
   ]
  },
  {
   "cell_type": "code",
   "execution_count": 34,
   "id": "framed-enzyme",
   "metadata": {},
   "outputs": [],
   "source": [
    "summary2 = data[\"Materials Gathered\"].describe()"
   ]
  },
  {
   "cell_type": "code",
   "execution_count": 35,
   "id": "southern-berlin",
   "metadata": {},
   "outputs": [
    {
     "name": "stdout",
     "output_type": "stream",
     "text": [
      "count      87.000000\n",
      "mean      386.574713\n",
      "std       569.978062\n",
      "min         0.000000\n",
      "25%        75.000000\n",
      "50%       164.000000\n",
      "75%       418.500000\n",
      "max      3002.000000\n",
      "Name: Materials Gathered, dtype: float64\n"
     ]
    }
   ],
   "source": [
    "print(summary2)"
   ]
  },
  {
   "cell_type": "code",
   "execution_count": 36,
   "id": "metric-diana",
   "metadata": {},
   "outputs": [],
   "source": [
    "summary3 = data[\"Materials Used\"].describe()"
   ]
  },
  {
   "cell_type": "code",
   "execution_count": 37,
   "id": "smaller-applicant",
   "metadata": {},
   "outputs": [
    {
     "name": "stdout",
     "output_type": "stream",
     "text": [
      "count      87.000000\n",
      "mean      122.712644\n",
      "std       225.170370\n",
      "min         0.000000\n",
      "25%        20.000000\n",
      "50%        50.000000\n",
      "75%       145.000000\n",
      "max      1740.000000\n",
      "Name: Materials Used, dtype: float64\n"
     ]
    }
   ],
   "source": [
    "print(summary3)"
   ]
  },
  {
   "cell_type": "code",
   "execution_count": 38,
   "id": "answering-guidance",
   "metadata": {},
   "outputs": [],
   "source": [
    "correlate = data.corr()"
   ]
  },
  {
   "cell_type": "code",
   "execution_count": 39,
   "id": "renewable-collection",
   "metadata": {},
   "outputs": [
    {
     "name": "stdout",
     "output_type": "stream",
     "text": [
      "                        Placed  Eliminations   Assists   Revives      Hits  \\\n",
      "Placed                1.000000     -0.620700 -0.379723 -0.308495 -0.443354   \n",
      "Eliminations         -0.620700      1.000000  0.094521  0.266319  0.665995   \n",
      "Assists              -0.379723      0.094521  1.000000  0.239323  0.211216   \n",
      "Revives              -0.308495      0.266319  0.239323  1.000000  0.238168   \n",
      "Hits                 -0.443354      0.665995  0.211216  0.238168  1.000000   \n",
      "Head Shots           -0.316161      0.363349  0.157487  0.176711  0.669589   \n",
      "Distance Traveled    -0.770639      0.698474  0.421262  0.177137  0.403652   \n",
      "Materials Gathered   -0.569598      0.705802  0.186226  0.118319  0.397026   \n",
      "Materials Used       -0.529942      0.635065  0.128232  0.180731  0.249932   \n",
      "Damage Taken         -0.443081      0.369043  0.248184  0.037167  0.456642   \n",
      "Damage to Players    -0.608608      0.853151  0.265802  0.319366  0.788184   \n",
      "Damage to Structures -0.579788      0.611652  0.195581  0.136580  0.275422   \n",
      "\n",
      "                      Head Shots  Distance Traveled  Materials Gathered  \\\n",
      "Placed                 -0.316161          -0.770639           -0.569598   \n",
      "Eliminations            0.363349           0.698474            0.705802   \n",
      "Assists                 0.157487           0.421262            0.186226   \n",
      "Revives                 0.176711           0.177137            0.118319   \n",
      "Hits                    0.669589           0.403652            0.397026   \n",
      "Head Shots              1.000000           0.169609            0.182189   \n",
      "Distance Traveled       0.169609           1.000000            0.761612   \n",
      "Materials Gathered      0.182189           0.761612            1.000000   \n",
      "Materials Used          0.085610           0.743889            0.810661   \n",
      "Damage Taken            0.349639           0.404715            0.336700   \n",
      "Damage to Players       0.623937           0.640265            0.622959   \n",
      "Damage to Structures    0.170979           0.704739            0.596698   \n",
      "\n",
      "                      Materials Used  Damage Taken  Damage to Players  \\\n",
      "Placed                     -0.529942     -0.443081          -0.608608   \n",
      "Eliminations                0.635065      0.369043           0.853151   \n",
      "Assists                     0.128232      0.248184           0.265802   \n",
      "Revives                     0.180731      0.037167           0.319366   \n",
      "Hits                        0.249932      0.456642           0.788184   \n",
      "Head Shots                  0.085610      0.349639           0.623937   \n",
      "Distance Traveled           0.743889      0.404715           0.640265   \n",
      "Materials Gathered          0.810661      0.336700           0.622959   \n",
      "Materials Used              1.000000      0.255122           0.507796   \n",
      "Damage Taken                0.255122      1.000000           0.365312   \n",
      "Damage to Players           0.507796      0.365312           1.000000   \n",
      "Damage to Structures        0.561495      0.155445           0.557887   \n",
      "\n",
      "                      Damage to Structures  \n",
      "Placed                           -0.579788  \n",
      "Eliminations                      0.611652  \n",
      "Assists                           0.195581  \n",
      "Revives                           0.136580  \n",
      "Hits                              0.275422  \n",
      "Head Shots                        0.170979  \n",
      "Distance Traveled                 0.704739  \n",
      "Materials Gathered                0.596698  \n",
      "Materials Used                    0.561495  \n",
      "Damage Taken                      0.155445  \n",
      "Damage to Players                 0.557887  \n",
      "Damage to Structures              1.000000  \n"
     ]
    }
   ],
   "source": [
    "print(correlate)"
   ]
  },
  {
   "cell_type": "code",
   "execution_count": 40,
   "id": "presidential-mathematics",
   "metadata": {},
   "outputs": [],
   "source": [
    "import matplotlib.pyplot as plt\n",
    "import numpy as np"
   ]
  },
  {
   "cell_type": "code",
   "execution_count": 41,
   "id": "impossible-order",
   "metadata": {},
   "outputs": [
    {
     "data": {
      "image/png": "[encoded data removed]",
      "text/plain": [
       "<Figure size 432x288 with 1 Axes>"
      ]
     },
     "metadata": {
      "needs_background": "light"
     },
     "output_type": "display_data"
    }
   ],
   "source": [
    "plt.plot([summary, summary2, summary3])\n",
    "plt.ylabel('idk what these numbers are yet')\n",
    "plt.show()"
   ]
  },
  {
   "cell_type": "code",
   "execution_count": 45,
   "id": "answering-object",
   "metadata": {},
   "outputs": [],
   "source": [
    " avgplace = data[\"Placed\"].mean()"
   ]
  },
  {
   "cell_type": "code",
   "execution_count": 46,
   "id": "behavioral-prediction",
   "metadata": {},
   "outputs": [
    {
     "name": "stdout",
     "output_type": "stream",
     "text": [
      "22.04597701149425\n"
     ]
    }
   ],
   "source": [
    "print(avgplace)"
   ]
  },
  {
   "cell_type": "code",
   "execution_count": 48,
   "id": "younger-alarm",
   "metadata": {},
   "outputs": [],
   "source": [
    " avggather = data[\"Materials Gathered\"].mean()"
   ]
  },
  {
   "cell_type": "code",
   "execution_count": 49,
   "id": "geological-retrieval",
   "metadata": {},
   "outputs": [
    {
     "name": "stdout",
     "output_type": "stream",
     "text": [
      "386.57471264367814\n"
     ]
    }
   ],
   "source": [
    "print(avggather)"
   ]
  },
  {
   "cell_type": "code",
   "execution_count": 50,
   "id": "aggregate-shoot",
   "metadata": {},
   "outputs": [],
   "source": [
    " avguse = data[\"Materials Used\"].mean()"
   ]
  },
  {
   "cell_type": "code",
   "execution_count": 51,
   "id": "sharp-prison",
   "metadata": {},
   "outputs": [
    {
     "name": "stdout",
     "output_type": "stream",
     "text": [
      "122.71264367816092\n"
     ]
    }
   ],
   "source": [
    "print(avguse)"
   ]
  },
  {
   "cell_type": "code",
   "execution_count": 58,
   "id": "american-missouri",
   "metadata": {
    "scrolled": true
   },
   "outputs": [
    {
     "data": {
      "image/png": "[encoded data removed]",
      "text/plain": [
       "<Figure size 648x216 with 3 Axes>"
      ]
     },
     "metadata": {
      "needs_background": "light"
     },
     "output_type": "display_data"
    }
   ],
   "source": [
    "names = ['avguse', 'avggather', 'avgplace']\n",
    "values = [1, 10, 100]\n",
    "\n",
    "plt.figure(figsize=(9, 3))\n",
    "\n",
    "plt.subplot(131)\n",
    "plt.bar(names, values)\n",
    "plt.subplot(132)\n",
    "plt.scatter(names, values)\n",
    "plt.subplot(133)\n",
    "plt.plot(names, values)\n",
    "plt.suptitle('what kind of graph should i use!!!')\n",
    "plt.show()"
   ]
  },
  {
   "cell_type": "code",
   "execution_count": 86,
   "id": "extra-asbestos",
   "metadata": {},
   "outputs": [
    {
     "data": {
      "text/plain": [
       "<matplotlib.legend.Legend at 0x11b3c8f10>"
      ]
     },
     "execution_count": 86,
     "metadata": {},
     "output_type": "execute_result"
    },
    {
     "data": {
      "image/png": "[encoded data removed]",
      "text/plain": [
       "<Figure size 432x288 with 1 Axes>"
      ]
     },
     "metadata": {
      "needs_background": "light"
     },
     "output_type": "display_data"
    }
   ],
   "source": [
    "x = np.linspace(0, 2, 600)\n",
    "\n",
    "plt.plot(avguse, label='materials used')\n",
    "plt.plot(avggather, label='materials gathered')\n",
    "plt.plot(avgplace, label='placed')\n",
    "plt.xlim(0,1000)\n",
    "plt.xlabel('where the lines at')\n",
    "plt.ylabel('help')\n",
    "plt.title(\"probably this one\")\n",
    "plt.legend()"
   ]
  },
  {
   "cell_type": "code",
   "execution_count": 87,
   "id": "specific-animation",
   "metadata": {},
   "outputs": [
    {
     "data": {
      "text/plain": [
       "<matplotlib.legend.Legend at 0x11a5791c0>"
      ]
     },
     "execution_count": 87,
     "metadata": {},
     "output_type": "execute_result"
    },
    {
     "data": {
      "image/png": "[encoded data removed]",
      "text/plain": [
       "<Figure size 432x288 with 1 Axes>"
      ]
     },
     "metadata": {
      "needs_background": "light"
     },
     "output_type": "display_data"
    }
   ],
   "source": [
    "x = np.linspace(0, 2, 600)\n",
    "\n",
    "plt.plot(22.04597701149425, label='materials used')  \n",
    "plt.plot(386.57471264367814, label='materials gathered')  \n",
    "plt.plot(122.71264367816092, label='placed')\n",
    "plt.xlim(0,1000)\n",
    "plt.xlabel('WHY ARE THERE NO LINES')\n",
    "plt.ylabel('WHERE ARE THEY')\n",
    "plt.title(\"probably this one\")\n",
    "plt.legend()"
   ]
  },
  {
   "cell_type": "markdown",
   "id": "southeast-duncan",
   "metadata": {},
   "source": [
    "ok all of this was literally just seeing what was useful now i'm on to like actually doing things for the end of it (i work very unorganized) \n",
    "\n",
    "i'm gonna pull anything <25 from \"placed\" and then from those the \"materials gathered\" and materials used\" then pull the data from the rest of them >25 and see what happens, i don't know how to do that though actually \n",
    "\n",
    "i also wanna use seaborne histograms but i dont think i understand how it works, i was putting in the correct variables and watching tutorials pretty much straight from their site but they kept giving me traceback errors \n",
    "\n",
    "and then on the last one I CANNOT GET THE LINES TO WORK i am following a guide straight from matplotlib and i do not know where my lines are \n"
   ]
  },
  {
   "cell_type": "code",
   "execution_count": null,
   "id": "separate-identifier",
   "metadata": {},
   "outputs": [],
   "source": []
  }
 ],
 "metadata": {
  "kernelspec": {
   "display_name": "Python 3",
   "language": "python",
   "name": "python3"
  },
  "language_info": {
   "codemirror_mode": {
    "name": "ipython",
    "version": 3
   },
   "file_extension": ".py",
   "mimetype": "text/x-python",
   "name": "python",
   "nbconvert_exporter": "python",
   "pygments_lexer": "ipython3",
   "version": "3.9.1"
  }
 },
 "nbformat": 4,
 "nbformat_minor": 5
}
