{
 "cells": [
  {
   "cell_type": "markdown",
   "id": "ranking-trader",
   "metadata": {},
   "source": [
    "<h1> R Recess </h1> \n",
    "<h3>Kay Shrieve | Data in Emergeing Media and Technology | 3/15/21</h3>\n",
    "\n",
    "<h4>1. Overview</h4> \n",
    "In this data report I will be looking at and analyzing the wait times of the Disney rides Soarin and Spaceship, in order to see if the Soarin wait times and Spaceship wait times have any correlation to each other. "
   ]
  },
  {
   "cell_type": "code",
   "execution_count": 5,
   "id": "incident-hollywood",
   "metadata": {},
   "outputs": [],
   "source": [
    "import pandas as pd \n",
    "from matplotlib import pyplot as plt\n",
    "import numpy as np \n",
    "import os"
   ]
  },
  {
   "cell_type": "code",
   "execution_count": 6,
   "id": "disciplinary-question",
   "metadata": {},
   "outputs": [
    {
     "name": "stdout",
     "output_type": "stream",
     "text": [
      "E:\\Anaconda\\envs\\datainemat\\Lib\\R\n"
     ]
    }
   ],
   "source": [
    "os.environ['R_HOME'] = r\"E:\\Anaconda\\envs\\datainemat\\Lib\\R\"\n",
    "print(os.environ['R_HOME'])"
   ]
  },
  {
   "cell_type": "code",
   "execution_count": 7,
   "id": "combined-restaurant",
   "metadata": {},
   "outputs": [
    {
     "name": "stdout",
     "output_type": "stream",
     "text": [
      "3.4.2\n"
     ]
    }
   ],
   "source": [
    "import rpy2\n",
    "print (rpy2.__version__)"
   ]
  },
  {
   "cell_type": "code",
   "execution_count": 8,
   "id": "domestic-interference",
   "metadata": {},
   "outputs": [],
   "source": [
    "import rpy2.robjects as robjects"
   ]
  },
  {
   "cell_type": "code",
   "execution_count": null,
   "id": "synthetic-stand",
   "metadata": {},
   "outputs": [],
   "source": [
    "r_cor = robjects.r[\"cor\"]\n",
    "r_lm = robjects.r[\"lm\"]\n",
    "r_predict = robjects.r[\"predict\"]\n",
    "r_plot = robjects.r[\"plot\"]\n",
    "r_summary = robjects.r[\"summary\"]"
   ]
  },
  {
   "cell_type": "markdown",
   "id": "raising-seeking",
   "metadata": {},
   "source": [
    "<h4>2. Data</h4> \n",
    "Below, I am loading in the data I will be using to see if there is any correlation between wait times. I got this data from my professor, who got it from touringplans.com. Disney wait times are public information that anyone is able to obtain. "
   ]
  },
  {
   "cell_type": "code",
   "execution_count": 11,
   "id": "environmental-quilt",
   "metadata": {},
   "outputs": [
    {
     "data": {
      "text/html": [
       "<div>\n",
       "<style scoped>\n",
       "    .dataframe tbody tr th:only-of-type {\n",
       "        vertical-align: middle;\n",
       "    }\n",
       "\n",
       "    .dataframe tbody tr th {\n",
       "        vertical-align: top;\n",
       "    }\n",
       "\n",
       "    .dataframe thead th {\n",
       "        text-align: right;\n",
       "    }\n",
       "</style>\n",
       "<table border=\"1\" class=\"dataframe\">\n",
       "  <thead>\n",
       "    <tr style=\"text-align: right;\">\n",
       "      <th></th>\n",
       "      <th>date</th>\n",
       "      <th>datetime</th>\n",
       "      <th>soarin_wait</th>\n",
       "      <th>spaceship_wait</th>\n",
       "    </tr>\n",
       "  </thead>\n",
       "  <tbody>\n",
       "    <tr>\n",
       "      <th>0</th>\n",
       "      <td>1/1/2020</td>\n",
       "      <td>1/1/2020 8:43</td>\n",
       "      <td>10.0</td>\n",
       "      <td>5.0</td>\n",
       "    </tr>\n",
       "    <tr>\n",
       "      <th>1</th>\n",
       "      <td>1/1/2020</td>\n",
       "      <td>1/1/2020 8:50</td>\n",
       "      <td>10.0</td>\n",
       "      <td>5.0</td>\n",
       "    </tr>\n",
       "    <tr>\n",
       "      <th>2</th>\n",
       "      <td>1/1/2020</td>\n",
       "      <td>1/1/2020 8:57</td>\n",
       "      <td>10.0</td>\n",
       "      <td>5.0</td>\n",
       "    </tr>\n",
       "    <tr>\n",
       "      <th>3</th>\n",
       "      <td>1/1/2020</td>\n",
       "      <td>1/1/2020 9:08</td>\n",
       "      <td>25.0</td>\n",
       "      <td>-999.0</td>\n",
       "    </tr>\n",
       "    <tr>\n",
       "      <th>4</th>\n",
       "      <td>1/1/2020</td>\n",
       "      <td>1/1/2020 9:15</td>\n",
       "      <td>25.0</td>\n",
       "      <td>-999.0</td>\n",
       "    </tr>\n",
       "  </tbody>\n",
       "</table>\n",
       "</div>"
      ],
      "text/plain": [
       "       date       datetime  soarin_wait  spaceship_wait\n",
       "0  1/1/2020  1/1/2020 8:43         10.0             5.0\n",
       "1  1/1/2020  1/1/2020 8:50         10.0             5.0\n",
       "2  1/1/2020  1/1/2020 8:57         10.0             5.0\n",
       "3  1/1/2020  1/1/2020 9:08         25.0          -999.0\n",
       "4  1/1/2020  1/1/2020 9:15         25.0          -999.0"
      ]
     },
     "execution_count": 11,
     "metadata": {},
     "output_type": "execute_result"
    }
   ],
   "source": [
    "waits = pd.read_csv (r\"C:\\Users\\kgshr_000\\Documents\\senioryear\\disney_wait_times.csv\")\n",
    "waits.head()"
   ]
  },
  {
   "cell_type": "markdown",
   "id": "inner-crime",
   "metadata": {},
   "source": [
    "<h4>3. Visualization</h4>\n",
    "Below, I am using histograms to compare the wait times of Soarin and Spaceship. "
   ]
  },
  {
   "cell_type": "code",
   "execution_count": 12,
   "id": "handy-housing",
   "metadata": {
    "scrolled": true
   },
   "outputs": [
    {
     "data": {
      "image/png": "[encoded data removed]",
      "text/plain": [
       "<Figure size 432x288 with 1 Axes>"
      ]
     },
     "metadata": {
      "needs_background": "light"
     },
     "output_type": "display_data"
    }
   ],
   "source": [
    "soarin_hist = plt.hist(waits['soarin_wait'])"
   ]
  },
  {
   "cell_type": "markdown",
   "id": "democratic-anime",
   "metadata": {},
   "source": [
    "Above, I am showing the Soarin wait times by timestamp. "
   ]
  },
  {
   "cell_type": "code",
   "execution_count": 13,
   "id": "convinced-dryer",
   "metadata": {},
   "outputs": [
    {
     "data": {
      "image/png": "[encoded data removed]",
      "text/plain": [
       "<Figure size 432x288 with 1 Axes>"
      ]
     },
     "metadata": {
      "needs_background": "light"
     },
     "output_type": "display_data"
    }
   ],
   "source": [
    "space_hist = plt.hist(waits['spaceship_wait'])"
   ]
  },
  {
   "cell_type": "markdown",
   "id": "saving-pressure",
   "metadata": {},
   "source": [
    "In this histogram, I am showing the Spaceship wait times but there is an error because it is showing negative time. Below, I fixed this so it would no longer show time in the negative and accuratley displays the timestamps. "
   ]
  },
  {
   "cell_type": "code",
   "execution_count": 14,
   "id": "secondary-casting",
   "metadata": {},
   "outputs": [],
   "source": [
    "waits = waits.replace(-999.0, np.nan)"
   ]
  },
  {
   "cell_type": "code",
   "execution_count": 15,
   "id": "difficult-listing",
   "metadata": {},
   "outputs": [
    {
     "data": {
      "image/png": "[encoded data removed]",
      "text/plain": [
       "<Figure size 432x288 with 1 Axes>"
      ]
     },
     "metadata": {
      "needs_background": "light"
     },
     "output_type": "display_data"
    }
   ],
   "source": [
    "space_hist = plt.hist(waits['spaceship_wait'])"
   ]
  },
  {
   "cell_type": "code",
   "execution_count": 16,
   "id": "handled-dakota",
   "metadata": {},
   "outputs": [
    {
     "data": {
      "image/png": "[encoded data removed]",
      "text/plain": [
       "<Figure size 432x288 with 1 Axes>"
      ]
     },
     "metadata": {
      "needs_background": "light"
     },
     "output_type": "display_data"
    }
   ],
   "source": [
    "fig, ax0 = plt.subplots()\n",
    "ax0 = plt.scatter(waits['soarin_wait'], waits['spaceship_wait'])\n",
    "plt.show()"
   ]
  },
  {
   "cell_type": "markdown",
   "id": "fabulous-middle",
   "metadata": {},
   "source": [
    "I made a scatter plot to compare the wait times of the rides. "
   ]
  },
  {
   "cell_type": "markdown",
   "id": "physical-montana",
   "metadata": {},
   "source": [
    "I then use R to show the data effects. "
   ]
  },
  {
   "cell_type": "code",
   "execution_count": 18,
   "id": "vocal-prefix",
   "metadata": {},
   "outputs": [],
   "source": [
    "soarin_r = robjects.FloatVector(waits['soarin_wait'])\n",
    "space_r = robjects.FloatVector(waits['spaceship_wait'])"
   ]
  },
  {
   "cell_type": "code",
   "execution_count": 20,
   "id": "modified-guitar",
   "metadata": {},
   "outputs": [],
   "source": [
    "wait_cor = r_cor(soarin_r, space_r, method = \"pearson\", use = \"pairwise.complete.obs\")"
   ]
  },
  {
   "cell_type": "code",
   "execution_count": 21,
   "id": "mathematical-remedy",
   "metadata": {},
   "outputs": [
    {
     "data": {
      "text/plain": [
       "0.36022276532483044"
      ]
     },
     "execution_count": 21,
     "metadata": {},
     "output_type": "execute_result"
    }
   ],
   "source": [
    "wait_cor[0]"
   ]
  },
  {
   "cell_type": "code",
   "execution_count": 22,
   "id": "fossil-cocktail",
   "metadata": {},
   "outputs": [
    {
     "data": {
      "text/plain": [
       "0.12976044065826786"
      ]
     },
     "execution_count": 22,
     "metadata": {},
     "output_type": "execute_result"
    }
   ],
   "source": [
    "wait_cor[0] ** 2 "
   ]
  },
  {
   "cell_type": "code",
   "execution_count": 23,
   "id": "promising-england",
   "metadata": {},
   "outputs": [],
   "source": [
    "simple_form = robjects.Formula(\"soarin~spaceship\")\n",
    "simple_form.environment['soarin'] = soarin_r\n",
    "simple_form.environment['spaceship'] = space_r"
   ]
  },
  {
   "cell_type": "code",
   "execution_count": 24,
   "id": "illegal-sculpture",
   "metadata": {},
   "outputs": [
    {
     "data": {
      "text/plain": [
       "rpy2.robjects.vectors.ListVector"
      ]
     },
     "execution_count": 24,
     "metadata": {},
     "output_type": "execute_result"
    }
   ],
   "source": [
    "wait_lm = r_lm(formula = simple_form)\n",
    "type(wait_lm)"
   ]
  },
  {
   "cell_type": "code",
   "execution_count": 25,
   "id": "danish-subdivision",
   "metadata": {},
   "outputs": [
    {
     "data": {
      "text/html": [
       "\n",
       "        <span>ListVector with 13 elements.</span>\n",
       "        <table>\n",
       "        <tbody>\n",
       "        \n",
       "          <tr>\n",
       "            <th>\n",
       "            coefficients\n",
       "            </th>\n",
       "            <td>\n",
       "            \n",
       "        <span>FloatVector with 2 elements.</span>\n",
       "        <table>\n",
       "        <tbody>\n",
       "          <tr>\n",
       "          \n",
       "            <td>\n",
       "            48.696118\n",
       "            </td>\n",
       "          \n",
       "            <td>\n",
       "            0.457380\n",
       "            </td>\n",
       "          \n",
       "          </tr>\n",
       "        </tbody>\n",
       "        </table>\n",
       "        \n",
       "            </td>\n",
       "          </tr>\n",
       "        \n",
       "          <tr>\n",
       "            <th>\n",
       "            residuals\n",
       "            </th>\n",
       "            <td>\n",
       "            \n",
       "        <span>FloatVector with 498 elements.</span>\n",
       "        <table>\n",
       "        <tbody>\n",
       "          <tr>\n",
       "          \n",
       "            <td>\n",
       "            -40.983020\n",
       "            </td>\n",
       "          \n",
       "            <td>\n",
       "            -40.983020\n",
       "            </td>\n",
       "          \n",
       "            <td>\n",
       "            -40.983020\n",
       "            </td>\n",
       "          \n",
       "            <td>\n",
       "            ...\n",
       "            </td>\n",
       "          \n",
       "            <td>\n",
       "            -33.269922\n",
       "            </td>\n",
       "          \n",
       "            <td>\n",
       "            -38.269922\n",
       "            </td>\n",
       "          \n",
       "            <td>\n",
       "            -38.269922\n",
       "            </td>\n",
       "          \n",
       "          </tr>\n",
       "        </tbody>\n",
       "        </table>\n",
       "        \n",
       "            </td>\n",
       "          </tr>\n",
       "        \n",
       "          <tr>\n",
       "            <th>\n",
       "            effects\n",
       "            </th>\n",
       "            <td>\n",
       "            \n",
       "        <span>FloatVector with 498 elements.</span>\n",
       "        <table>\n",
       "        <tbody>\n",
       "          <tr>\n",
       "          \n",
       "            <td>\n",
       "            -1472.939920\n",
       "            </td>\n",
       "          \n",
       "            <td>\n",
       "            186.325375\n",
       "            </td>\n",
       "          \n",
       "            <td>\n",
       "            -36.415494\n",
       "            </td>\n",
       "          \n",
       "            <td>\n",
       "            ...\n",
       "            </td>\n",
       "          \n",
       "            <td>\n",
       "            -29.149349\n",
       "            </td>\n",
       "          \n",
       "            <td>\n",
       "            -34.149349\n",
       "            </td>\n",
       "          \n",
       "            <td>\n",
       "            -34.149349\n",
       "            </td>\n",
       "          \n",
       "          </tr>\n",
       "        </tbody>\n",
       "        </table>\n",
       "        \n",
       "            </td>\n",
       "          </tr>\n",
       "        \n",
       "          <tr>\n",
       "            <th>\n",
       "            ...\n",
       "            </th>\n",
       "            <td>\n",
       "            ...\n",
       "            </td>\n",
       "          </tr>\n",
       "        \n",
       "          <tr>\n",
       "            <th>\n",
       "            call\n",
       "            </th>\n",
       "            <td>\n",
       "            \n",
       "Call:\n",
       "(function (formula, data, subset, weights, na.action, method = \"qr\", \n",
       "    model = TRUE, x = FALSE, y = FALSE, qr = TRUE, singular.ok = TRUE, \n",
       "    contrasts = NULL, offset, ...) \n",
       "{\n",
       "    ret.x <- x\n",
       "    ret.y <- y\n",
       "    cl <- match.call()\n",
       "    mf <- match.call(expand.dots = FALSE)\n",
       "    m <- match(c(\"formula\", \"data\", \"subset\", \"weights\", \"na.action\", \n",
       "        \"offset\"), names(mf), 0L)\n",
       "    mf <- mf[c(1L, m)]\n",
       "    mf$drop.unused.levels <- TRUE\n",
       "    mf[[1L]] <- quote(stats::model.frame)\n",
       "    mf <- eval(mf, parent.frame())\n",
       "    if (method == \"model.frame\") \n",
       "        return(mf)\n",
       "    else if (method != \"qr\") \n",
       "        warning(gettextf(\"method = '%s' is not supported. Using 'qr'\", \n",
       "            method), domain = NA)\n",
       "    mt <- attr(mf, \"terms\")\n",
       "    y <- model.response(mf, \"numeric\")\n",
       "    w <- as.vector(model.weights(mf))\n",
       "    if (!is.null(w) && !is.numeric(w)) \n",
       "        stop(\"'weights' must be a numeric vector\")\n",
       "    offset <- model.offset(mf)\n",
       "    mlm <- is.matrix(y)\n",
       "    ny <- if (mlm) \n",
       "        nrow(y)\n",
       "    else length(y)\n",
       "    if (!is.null(offset)) {\n",
       "        if (!mlm) \n",
       "            offset <- as.vector(offset)\n",
       "        if (NROW(offset) != ny) \n",
       "            stop(gettextf(\"number of offsets is %d, should equal %d (number of observations)\", \n",
       "                NROW(offset), ny), domain = NA)\n",
       "    }\n",
       "    if (is.empty.model(mt)) {\n",
       "        x <- NULL\n",
       "        z <- list(coefficients = if (mlm) matrix(NA_real_, 0, \n",
       "            ncol(y)) else numeric(), residuals = y, fitted.values = 0 * \n",
       "            y, weights = w, rank = 0L, df.residual = if (!is.null(w)) sum(w != \n",
       "            0) else ny)\n",
       "        if (!is.null(offset)) {\n",
       "            z$fitted.values <- offset\n",
       "            z$residuals <- y - offset\n",
       "        }\n",
       "    }\n",
       "    else {\n",
       "        x <- model.matrix(mt, mf, contrasts)\n",
       "        z <- if (is.null(w)) \n",
       "            lm.fit(x, y, offset = offset, singular.ok = singular.ok, \n",
       "                ...)\n",
       "        else lm.wfit(x, y, w, offset = offset, singular.ok = singular.ok, \n",
       "            ...)\n",
       "    }\n",
       "    class(z) <- c(if (mlm) \"mlm\", \"lm\")\n",
       "    z$na.action <- attr(mf, \"na.action\")\n",
       "    z$offset <- offset\n",
       "    z$contrasts <- attr(x, \"contrasts\")\n",
       "    z$xlevels <- .getXlevels(mt, mf)\n",
       "    z$call <- cl\n",
       "    z$terms <- mt\n",
       "    if (model) \n",
       "        z$model <- mf\n",
       "    if (ret.x) \n",
       "        z$x <- x\n",
       "    if (ret.y) \n",
       "        z$y <- y\n",
       "    if (!qr) \n",
       "        z$qr <- NULL\n",
       "    z\n",
       "})(formula = soarin ~ spaceship)\n",
       "\n",
       "Coefficients:\n",
       "(Intercept)    spaceship  \n",
       "    48.6961       0.4574  \n",
       "\n",
       "\n",
       "            </td>\n",
       "          </tr>\n",
       "        \n",
       "          <tr>\n",
       "            <th>\n",
       "            terms\n",
       "            </th>\n",
       "            <td>\n",
       "            soarin ~ spaceship\n",
       "attr(,\"variables\")\n",
       "list(soarin, spaceship)\n",
       "attr(,\"factors\")\n",
       "          spaceship\n",
       "soarin            0\n",
       "spaceship         1\n",
       "attr(,\"term.labels\")\n",
       "[1] \"spaceship\"\n",
       "attr(,\"order\")\n",
       "[1] 1\n",
       "attr(,\"intercept\")\n",
       "[1] 1\n",
       "attr(,\"response\")\n",
       "[1] 1\n",
       "attr(,\".Environment\")\n",
       "<environment: R_GlobalEnv>\n",
       "attr(,\"predvars\")\n",
       "list(soarin, spaceship)\n",
       "attr(,\"dataClasses\")\n",
       "   soarin spaceship \n",
       "\"numeric\" \"numeric\" \n",
       "\n",
       "            </td>\n",
       "          </tr>\n",
       "        \n",
       "          <tr>\n",
       "            <th>\n",
       "            model\n",
       "            </th>\n",
       "            <td>\n",
       "            \n",
       "        <span>R/rpy2 DataFrame (498 x 2)</span>\n",
       "        <table>\n",
       "          <thead>\n",
       "            <tr>\n",
       "              \n",
       "              <th>soarin</th>\n",
       "              \n",
       "              <th>spaceship</th>\n",
       "              \n",
       "            </tr>\n",
       "          </thead>\n",
       "          <tbody>\n",
       "          \n",
       "          <tr>\n",
       "            \n",
       "            <td>\n",
       "              ...\n",
       "            </td>\n",
       "            \n",
       "            <td>\n",
       "              ...\n",
       "            </td>\n",
       "            \n",
       "          </tr>\n",
       "          \n",
       "          </tbody>\n",
       "        </table>\n",
       "    \n",
       "            </td>\n",
       "          </tr>\n",
       "        \n",
       "        </tbody>\n",
       "        </table>\n",
       "        "
      ],
      "text/plain": [
       "<rpy2.robjects.vectors.ListVector object at 0x0000014E58A9B880> [RTYPES.VECSXP]\n",
       "R classes: ('lm',)\n",
       "[FloatSexp..., FloatSexp..., FloatSexp..., IntSexpVe..., ..., ListSexpV..., LangSexpV..., LangSexpV..., ListSexpV...]\n",
       "  coefficients: <class 'rpy2.robjects.vectors.FloatVector'>\n",
       "  <rpy2.robjects.vectors.FloatVector object at 0x0000014E58B03700> [RTYPES.REALSXP]\n",
       "R classes: ('numeric',)\n",
       "[48.696118, 0.457380]\n",
       "  residuals: <class 'rpy2.robjects.vectors.FloatVector'>\n",
       "  <rpy2.robjects.vectors.FloatVector object at 0x0000014E58B03580> [RTYPES.REALSXP]\n",
       "R classes: ('numeric',)\n",
       "[-40.983020, -40.983020, -40.983020, -13.696118, ..., -18.269922, -33.269922, -38.269922, -38.269922]\n",
       "  effects: <class 'rpy2.robjects.vectors.FloatVector'>\n",
       "  <rpy2.robjects.vectors.FloatVector object at 0x0000014E58B03500> [RTYPES.REALSXP]\n",
       "R classes: ('numeric',)\n",
       "[-1472.939920, 186.325375, -36.415494, -8.681639, ..., -14.149349, -29.149349, -34.149349, -34.149349]\n",
       "  rank: <class 'rpy2.robjects.vectors.IntVector'>\n",
       "  <rpy2.robjects.vectors.IntVector object at 0x0000014E58B1EC40> [RTYPES.INTSXP]\n",
       "R classes: ('integer',)\n",
       "[2]\n",
       "...\n",
       "<rpy2.robjects.vectors.ListVector object at 0x0000014E58A9B880> [RTYPES.VECSXP]\n",
       "R classes: ('lm',)\n",
       "[FloatSexp..., FloatSexp..., FloatSexp..., IntSexpVe..., ..., ListSexpV..., LangSexpV..., LangSexpV..., ListSexpV...]\n",
       "  qr: <class 'rpy2.robjects.language.LangVector'>\n",
       "  Rlang( (function (formula, data, subset, weights, na.action, method = \"qr\",  )\n",
       "  df.residual: <class 'rpy2.robjects.Formula'>\n",
       "  <rpy2.robjects.Formula object at 0x0000014E58BD1040> [RTYPES.LANGSXP]\n",
       "R classes: ('terms', 'formula')\n",
       "<rpy2.robjects.vectors.ListVector object at 0x0000014E58A9B880> [RTYPES.VECSXP]\n",
       "R classes: ('lm',)\n",
       "[FloatSexp..., FloatSexp..., FloatSexp..., IntSexpVe..., ..., ListSexpV..., LangSexpV..., LangSexpV..., ListSexpV...]"
      ]
     },
     "execution_count": 25,
     "metadata": {},
     "output_type": "execute_result"
    }
   ],
   "source": [
    "wait_lm"
   ]
  },
  {
   "cell_type": "code",
   "execution_count": 26,
   "id": "adequate-combination",
   "metadata": {},
   "outputs": [
    {
     "data": {
      "text/html": [
       "\n",
       "        <span>FloatVector with 2 elements.</span>\n",
       "        <table>\n",
       "        <tbody>\n",
       "          <tr>\n",
       "          \n",
       "            <td>\n",
       "            48.696118\n",
       "            </td>\n",
       "          \n",
       "            <td>\n",
       "            0.457380\n",
       "            </td>\n",
       "          \n",
       "          </tr>\n",
       "        </tbody>\n",
       "        </table>\n",
       "        "
      ],
      "text/plain": [
       "<rpy2.robjects.vectors.FloatVector object at 0x0000014E58B31100> [RTYPES.REALSXP]\n",
       "R classes: ('numeric',)\n",
       "[48.696118, 0.457380]"
      ]
     },
     "execution_count": 26,
     "metadata": {},
     "output_type": "execute_result"
    }
   ],
   "source": [
    "wait_lm[0]"
   ]
  },
  {
   "cell_type": "code",
   "execution_count": 27,
   "id": "potential-welsh",
   "metadata": {},
   "outputs": [
    {
     "data": {
      "text/html": [
       "\n",
       "        <span>FloatVector with 2 elements.</span>\n",
       "        <table>\n",
       "        <tbody>\n",
       "          <tr>\n",
       "          \n",
       "            <td>\n",
       "            48.696118\n",
       "            </td>\n",
       "          \n",
       "            <td>\n",
       "            0.457380\n",
       "            </td>\n",
       "          \n",
       "          </tr>\n",
       "        </tbody>\n",
       "        </table>\n",
       "        "
      ],
      "text/plain": [
       "<rpy2.robjects.vectors.FloatVector object at 0x0000014E58BE0C00> [RTYPES.REALSXP]\n",
       "R classes: ('numeric',)\n",
       "[48.696118, 0.457380]"
      ]
     },
     "execution_count": 27,
     "metadata": {},
     "output_type": "execute_result"
    }
   ],
   "source": [
    "wait_lm.rx2(\"coefficients\")"
   ]
  },
  {
   "cell_type": "code",
   "execution_count": 28,
   "id": "artificial-massage",
   "metadata": {},
   "outputs": [
    {
     "name": "stdout",
     "output_type": "stream",
     "text": [
      " [1] \"coefficients\"  \"residuals\"     \"effects\"       \"rank\"         \n",
      " [5] \"fitted.values\" \"assign\"        \"qr\"            \"df.residual\"  \n",
      " [9] \"na.action\"     \"xlevels\"       \"call\"          \"terms\"        \n",
      "[13] \"model\"        \n",
      "\n"
     ]
    }
   ],
   "source": [
    "print(wait_lm.names)"
   ]
  },
  {
   "cell_type": "code",
   "execution_count": 29,
   "id": "interracial-strand",
   "metadata": {},
   "outputs": [
    {
     "name": "stdout",
     "output_type": "stream",
     "text": [
      " [1] \"call\"          \"terms\"         \"residuals\"     \"coefficients\" \n",
      " [5] \"aliased\"       \"sigma\"         \"df\"            \"r.squared\"    \n",
      " [9] \"adj.r.squared\" \"fstatistic\"    \"cov.unscaled\"  \"na.action\"    \n",
      "\n"
     ]
    }
   ],
   "source": [
    "print(r_summary(wait_lm).names)"
   ]
  },
  {
   "cell_type": "code",
   "execution_count": 30,
   "id": "treated-bundle",
   "metadata": {},
   "outputs": [
    {
     "data": {
      "text/html": [
       "\n",
       "        <span>FloatVector with 1 elements.</span>\n",
       "        <table>\n",
       "        <tbody>\n",
       "          <tr>\n",
       "          \n",
       "            <td>\n",
       "            0.129760\n",
       "            </td>\n",
       "          \n",
       "          </tr>\n",
       "        </tbody>\n",
       "        </table>\n",
       "        "
      ],
      "text/plain": [
       "<rpy2.robjects.vectors.FloatVector object at 0x0000014E58C15EC0> [RTYPES.REALSXP]\n",
       "R classes: ('numeric',)\n",
       "[0.129760]"
      ]
     },
     "execution_count": 30,
     "metadata": {},
     "output_type": "execute_result"
    }
   ],
   "source": [
    "r_summary(wait_lm).rx2('r.squared')"
   ]
  },
  {
   "cell_type": "markdown",
   "id": "japanese-riding",
   "metadata": {},
   "source": [
    "<h4> 5. Conclusion and Next Steps </h4> \n",
    "From doing this report, I can see that if the wait time for soarin is shorter, the wait time will be longer for Soarin. Another way you could compare this is through a bar graph. "
   ]
  },
  {
   "cell_type": "code",
   "execution_count": null,
   "id": "global-external",
   "metadata": {},
   "outputs": [],
   "source": []
  }
 ],
 "metadata": {
  "kernelspec": {
   "display_name": "Python 3",
   "language": "python",
   "name": "python3"
  },
  "language_info": {
   "codemirror_mode": {
    "name": "ipython",
    "version": 3
   },
   "file_extension": ".py",
   "mimetype": "text/x-python",
   "name": "python",
   "nbconvert_exporter": "python",
   "pygments_lexer": "ipython3",
   "version": "3.9.1"
  }
 },
 "nbformat": 4,
 "nbformat_minor": 5
}
