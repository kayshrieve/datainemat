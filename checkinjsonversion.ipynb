{
 "cells": [
  {
   "cell_type": "code",
   "execution_count": 1,
   "id": "worst-space",
   "metadata": {},
   "outputs": [],
   "source": [
    "import json\n",
    "import pandas as pd"
   ]
  },
  {
   "cell_type": "code",
   "execution_count": 4,
   "id": "returning-learning",
   "metadata": {},
   "outputs": [],
   "source": [
    "with open (r\"/Users/kaylashrieve/Documents/fortnite.json\") as f:\n",
    "    act = json.load(f) "
   ]
  },
  {
   "cell_type": "code",
   "execution_count": 5,
   "id": "european-rhythm",
   "metadata": {},
   "outputs": [],
   "source": [
    "data = pd.read_json(r\"/Users/kaylashrieve/Documents/fortnite.json\") "
   ]
  },
  {
   "cell_type": "code",
   "execution_count": 6,
   "id": "efficient-scenario",
   "metadata": {},
   "outputs": [
    {
     "name": "stdout",
     "output_type": "stream",
     "text": [
      "   Time of Day  Placed  Eliminations  Assists  Revives Accuracy  Hits  \\\n",
      "0      6:00 PM      27             2        0        0      23%    14   \n",
      "1      6:00 PM      45             1        2        0      30%    19   \n",
      "2      6:00 PM      38             3        0        0      30%    32   \n",
      "3      7:00 PM      30             1        3        0      18%    19   \n",
      "4      7:00 PM      16             3        1        1      58%    42   \n",
      "..         ...     ...           ...      ...      ...      ...   ...   \n",
      "82    12:00 AM       2             8        2        0      31%    97   \n",
      "83    12:00 AM      24             4        0        0      20%    12   \n",
      "84     1:00 PM      30             1        2        0      28%    40   \n",
      "85     2:00 PM      18             3        2        1      26%    25   \n",
      "86     2:00 PM      39             1        0        0      31%    12   \n",
      "\n",
      "    Head Shots  Distance Traveled  Materials Gathered  Materials Used  \\\n",
      "0            2             271.08                  20              20   \n",
      "1            1             396.73                 123              30   \n",
      "2            1             607.80                  71              60   \n",
      "3            1             714.16                 244              10   \n",
      "4           18            1140.00                 584             150   \n",
      "..         ...                ...                 ...             ...   \n",
      "82           8            3770.00                1750             400   \n",
      "83           4             222.54                  94               0   \n",
      "84           4             267.00                  78              30   \n",
      "85           3             954.43                 370              60   \n",
      "86           1             226.67                  75               0   \n",
      "\n",
      "    Damage Taken  Damage to Players  Damage to Structures  \n",
      "0            272                331                   621  \n",
      "1            247                444                   998  \n",
      "2            176                322                  1109  \n",
      "3            238                330                  4726  \n",
      "4            365                668                  2070  \n",
      "..           ...                ...                   ...  \n",
      "82           576               1492                  4593  \n",
      "83            96                478                  2262  \n",
      "84           148                375                  1196  \n",
      "85           354                475                  1168  \n",
      "86           120                338                  1105  \n",
      "\n",
      "[87 rows x 14 columns]\n"
     ]
    }
   ],
   "source": [
    "print(data)"
   ]
  },
  {
   "cell_type": "markdown",
   "id": "animal-albuquerque",
   "metadata": {},
   "source": [
    "I've been manually recording the Match Stats given from 87 Fortnite games (to be 100 of my personal games) and keeping them in an excel spreadsheet. I then converted that spreadsheet into JSON format, loaded in my data, and then converted it into a data frame to make it easier to read. \n",
    "\n",
    "I have given two friends the exact same spreadsheet format and am having them also play 100 games of Fortnite each, and they are sending me the data by April 30th. I will have 300 total games of Fortnite to work off of, to figure out if you have to build to make it into the top 25 of the match, or arbitraily \"be good\" at the game. "
   ]
  },
  {
   "cell_type": "code",
   "execution_count": null,
   "id": "operational-guinea",
   "metadata": {},
   "outputs": [],
   "source": []
  }
 ],
 "metadata": {
  "kernelspec": {
   "display_name": "Python 3",
   "language": "python",
   "name": "python3"
  },
  "language_info": {
   "codemirror_mode": {
    "name": "ipython",
    "version": 3
   },
   "file_extension": ".py",
   "mimetype": "text/x-python",
   "name": "python",
   "nbconvert_exporter": "python",
   "pygments_lexer": "ipython3",
   "version": "3.9.1"
  }
 },
 "nbformat": 4,
 "nbformat_minor": 5
}
