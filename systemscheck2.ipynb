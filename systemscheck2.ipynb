{
 "cells": [
  {
   "cell_type": "markdown",
   "id": "academic-playback",
   "metadata": {},
   "source": [
    "this is a markdown cell!! **this is markdown in bold!!!** *this is markdown in italics!!!*"
   ]
  },
  {
   "cell_type": "code",
   "execution_count": 1,
   "id": "buried-badge",
   "metadata": {},
   "outputs": [],
   "source": [
    "x = range(10)"
   ]
  },
  {
   "cell_type": "code",
   "execution_count": 2,
   "id": "parliamentary-domestic",
   "metadata": {},
   "outputs": [],
   "source": [
    "y = []\n",
    "for i in x:\n",
    "        y.append(i+3)"
   ]
  },
  {
   "cell_type": "code",
   "execution_count": 3,
   "id": "qualified-master",
   "metadata": {},
   "outputs": [
    {
     "name": "stdout",
     "output_type": "stream",
     "text": [
      "range(0, 10) [3, 4, 5, 6, 7, 8, 9, 10, 11, 12]\n"
     ]
    }
   ],
   "source": [
    "print(x,y)"
   ]
  },
  {
   "cell_type": "code",
   "execution_count": 5,
   "id": "fresh-anthropology",
   "metadata": {},
   "outputs": [
    {
     "data": {
      "text/plain": [
       "[0, 1, 2, 3, 4, 5, 6, 7, 8, 9]"
      ]
     },
     "execution_count": 5,
     "metadata": {},
     "output_type": "execute_result"
    }
   ],
   "source": [
    "def subthree (x):\n",
    "    return x-3\n",
    "[subthree(i) for i in y]"
   ]
  },
  {
   "cell_type": "code",
   "execution_count": null,
   "id": "atlantic-server",
   "metadata": {},
   "outputs": [],
   "source": []
  }
 ],
 "metadata": {
  "kernelspec": {
   "display_name": "Python 3",
   "language": "python",
   "name": "python3"
  },
  "language_info": {
   "codemirror_mode": {
    "name": "ipython",
    "version": 3
   },
   "file_extension": ".py",
   "mimetype": "text/x-python",
   "name": "python",
   "nbconvert_exporter": "python",
   "pygments_lexer": "ipython3",
   "version": "3.9.1"
  }
 },
 "nbformat": 4,
 "nbformat_minor": 5
}
